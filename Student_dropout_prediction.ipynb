{
  "nbformat": 4,
  "nbformat_minor": 0,
  "metadata": {
    "colab": {
      "provenance": []
    },
    "kernelspec": {
      "name": "python3",
      "display_name": "Python 3"
    },
    "language_info": {
      "name": "python"
    }
  },
  "cells": [
    {
      "cell_type": "code",
      "execution_count": 4,
      "metadata": {
        "colab": {
          "base_uri": "https://localhost:8080/"
        },
        "id": "Y_YaIbyNsXfq",
        "outputId": "6b2d42c4-4eec-44be-b521-a54e5d2bff66"
      },
      "outputs": [
        {
          "output_type": "stream",
          "name": "stdout",
          "text": [
            "CSV file created successfully!\n"
          ]
        }
      ],
      "source": [
        "import pandas as pd\n",
        "\n",
        "# Fixed: All lists are of equal length (100 entries)\n",
        "data = {\n",
        "    \"attendance\": [78, 91, 68, 54, 82, 47, 60, 78, 97, 58, 62, 50, 50, 63, 92, 75, 79, 63, 42, 61, 92, 41, 63, 83, 69, 77, 41, 99, 60, 72, 51, 97, 61, 83, 64, 88, 66, 98, 81, 67, 99, 55, 54, 86, 90, 83, 94, 91, 96, 42, 76, 90, 46, 60, 48, 78, 57, 43, 64, 99, 53, 89, 97, 48, 65, 92, 41, 59, 67, 86, 99, 46, 83, 47, 86, 74, 53, 56, 75, 89, 79, 43, 41, 45, 93, 81, 43, 93, 68, 57, 65, 83, 73, 49, 75, 53, 70, 87, 54, 47],\n",
        "    \"grades\": [6.56, 6.16, 9.68, 8.75, 7.97, 6.32, 6.69, 9.72, 6.86, 4.21, 4.37, 3.32, 2.13, 5.39, 5.16, 4.35, 2.11, 3.59, 7.69, 8.32, 6.85, 9.41, 7.21, 9.32, 8.8, 5.60, 2.76, 4.97, 7.35, 7.33, 6.73, 4.20, 6.49, 5.06, 9.77, 8.79, 7.77, 3.89, 4.05, 2.32, 7.69, 2.89, 5.51, 3.61, 9.17, 5.80, 6.51, 7.56, 3.11, 6.84, 6.32, 3.62, 9.54, 6.79, 7.56, 9.04, 6.99, 4.37, 2.84, 5.65, 3.75, 5.33, 9.07, 4.59, 2.98, 4.85, 9.25, 4.18, 7.18, 2.00, 4.82, 4.44, 3.32, 6.27, 5.88, 7.54, 4.16, 3.95, 3.35, 3.75, 6.46, 5.23, 2.52, 4.03, 3.98, 7.57, 7.70, 3.18, 9.98, 4.13, 9.81, 5.29, 2.26, 4.76, 7.07, 7.45, 6.25, 5.58, 6.42, 6.74],\n",
        "    \"participation\": [6, 7, 0, 5, 7, 4, 3, 1, 5, 5, 0, 8, 5, 2, 3, 3, 2, 9, 2, 2, 3, 6, 3, 8, 0, 7, 6, 1, 7, 0, 8, 8, 1, 6, 9, 2, 6, 9, 8, 3, 0, 1, 0, 4, 4, 6, 8, 8, 2, 2, 2, 3, 7, 5, 7, 0, 7, 3, 0, 7, 3, 5, 7, 3, 2, 8, 2, 8, 1, 1, 1, 5, 2, 8, 3, 0, 3, 0, 4, 3, 7, 7, 6, 2, 0, 0, 2, 5, 6, 5, 5, 5, 2, 5, 7, 1, 4, 0, 0, 4],\n",
        "    \"dropout_risk\": ['no', 'yes', 'no', 'yes', 'no', 'yes', 'no', 'yes', 'no', 'yes', 'no', 'no', 'no', 'yes', 'no', 'yes', 'no', 'yes', 'no', 'yes', 'yes', 'no', 'yes', 'yes', 'no', 'yes', 'yes', 'yes', 'no', 'yes', 'no', 'yes', 'yes', 'yes', 'no', 'yes', 'yes', 'no', 'yes', 'no', 'no', 'yes', 'no', 'yes', 'no', 'no', 'yes', 'no', 'no', 'no', 'no', 'no', 'yes', 'no', 'yes', 'no', 'yes', 'yes', 'no', 'no', 'no', 'yes', 'no', 'yes', 'no', 'yes', 'yes', 'no', 'no', 'yes', 'no', 'yes', 'no', 'yes', 'no', 'yes', 'no', 'yes', 'no', 'no', 'no', 'yes', 'no', 'yes', 'no', 'yes', 'no', 'yes', 'yes', 'no', 'no', 'yes', 'no', 'no', 'yes', 'no', 'yes', 'yes', 'yes', 'no']\n",
        "}\n",
        "\n",
        "# Create DataFrame\n",
        "df = pd.DataFrame(data)\n",
        "\n",
        "# Save to CSV file\n",
        "df.to_csv(\"student_dropout_data.csv\", index=False)\n",
        "\n",
        "print(\"CSV file created successfully!\")\n"
      ]
    },
    {
      "cell_type": "code",
      "source": [
        "import pandas as pd\n",
        "from sklearn.model_selection import train_test_split\n",
        "from sklearn.tree import DecisionTreeClassifier\n",
        "from sklearn.metrics import accuracy_score, classification_report, confusion_matrix\n",
        "\n",
        "# Load dataset\n",
        "df = pd.read_csv(\"student_dropout_data.csv\")\n",
        "print(\"Dataset Loaded Successfully!\")\n",
        "df.head()\n",
        "\n",
        "# Convert target labels to numeric: 'yes' -> 1 (dropout), 'no' -> 0\n",
        "df['dropout_risk'] = df['dropout_risk'].map({'yes': 1, 'no': 0})\n",
        "\n",
        "# Features and Target\n",
        "X = df[['attendance', 'grades', 'participation']]  # Features\n",
        "y = df['dropout_risk']                             # Target\n",
        "\n",
        "\n",
        "# 80% training, 20% testing\n",
        "X_train, X_test, y_train, y_test = train_test_split(X, y, test_size=0.2, random_state=42)\n",
        "\n",
        "# Create and train the model\n",
        "model = DecisionTreeClassifier()\n",
        "model.fit(X_train, y_train)\n",
        "\n",
        "print(\"Model Trained Successfully!\")\n",
        "\n",
        "# Make predictions\n",
        "y_pred = model.predict(X_test)\n",
        "\n",
        "# Evaluate performance\n",
        "print(\"Accuracy:\", accuracy_score(y_test, y_pred))\n",
        "print(\"\\nClassification Report:\\n\", classification_report(y_test, y_pred))\n",
        "print(\"\\nConfusion Matrix:\\n\", confusion_matrix(y_test, y_pred))\n",
        "\n",
        "\n",
        "# Prompt the user for input\n",
        "print(\" Student Dropout Predictor\")\n",
        "attendance = float(input(\"Enter attendance percentage (0–100): \"))\n",
        "grades = float(input(\"Enter average grade (0–10): \"))\n",
        "participation = int(input(\"Enter participation score (0–10): \"))\n",
        "\n",
        "# Create a DataFrame from the inputs\n",
        "import numpy as np\n",
        "sample_input = pd.DataFrame(np.array([[attendance, grades, participation]]),\n",
        "                            columns=[\"attendance\", \"grades\", \"participation\"])\n",
        "\n",
        "# Predict using trained model\n",
        "prediction = model.predict(sample_input)[0]\n",
        "\n",
        "# Show result\n",
        "if prediction == 1:\n",
        "    print(\"\\n The student is at RISK of dropping out.\")\n",
        "else:\n",
        "    print(\"\\n The student is NOT at risk of dropping out.\")\n",
        "\n",
        "\n",
        "\n"
      ],
      "metadata": {
        "colab": {
          "base_uri": "https://localhost:8080/"
        },
        "id": "BB2q4c0-tBnE",
        "outputId": "8afeb917-f815-49dc-8daf-75c57d45f434"
      },
      "execution_count": 15,
      "outputs": [
        {
          "output_type": "stream",
          "name": "stdout",
          "text": [
            "Dataset Loaded Successfully!\n",
            "Model Trained Successfully!\n",
            "Accuracy: 0.4\n",
            "\n",
            "Classification Report:\n",
            "               precision    recall  f1-score   support\n",
            "\n",
            "           0       0.60      0.43      0.50        14\n",
            "           1       0.20      0.33      0.25         6\n",
            "\n",
            "    accuracy                           0.40        20\n",
            "   macro avg       0.40      0.38      0.38        20\n",
            "weighted avg       0.48      0.40      0.42        20\n",
            "\n",
            "\n",
            "Confusion Matrix:\n",
            " [[6 8]\n",
            " [4 2]]\n",
            " Student Dropout Predictor\n",
            "Enter attendance percentage (0–100): 99\n",
            "Enter average grade (0–10): 5\n",
            "Enter participation score (0–10): 5\n",
            "\n",
            " The student is NOT at risk of dropping out.\n"
          ]
        }
      ]
    }
  ]
}